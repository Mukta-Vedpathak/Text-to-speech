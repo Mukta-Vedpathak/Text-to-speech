{
 "cells": [
  {
   "cell_type": "code",
   "execution_count": 3,
   "metadata": {},
   "outputs": [
    {
     "name": "stdout",
     "output_type": "stream",
     "text": [
      "Requirement already satisfied: pyttsx3 in c:\\python312\\lib\\site-packages (2.90)\n",
      "Requirement already satisfied: comtypes in c:\\python312\\lib\\site-packages (from pyttsx3) (1.4.4)\n",
      "Requirement already satisfied: pypiwin32 in c:\\python312\\lib\\site-packages (from pyttsx3) (223)\n",
      "Requirement already satisfied: pywin32 in c:\\python312\\lib\\site-packages (from pyttsx3) (306)\n"
     ]
    },
    {
     "name": "stderr",
     "output_type": "stream",
     "text": [
      "\n",
      "[notice] A new release of pip is available: 24.2 -> 24.3.1\n",
      "[notice] To update, run: python.exe -m pip install --upgrade pip\n"
     ]
    }
   ],
   "source": [
    "!pip install pyttsx3"
   ]
  },
  {
   "cell_type": "code",
   "execution_count": 1,
   "metadata": {},
   "outputs": [
    {
     "name": "stdout",
     "output_type": "stream",
     "text": [
      "Audio saved as my_audio.mp3\n",
      "Conversion complete. Check the file: my_audio.mp3\n"
     ]
    }
   ],
   "source": [
    "import pyttsx3\n",
    "\n",
    "def text_to_audio(text, filename=\"output_audio.mp3\"):\n",
    "    # Initialize the text-to-speech engine\n",
    "    engine = pyttsx3.init()\n",
    "    \n",
    "    # Set properties like volume and voice\n",
    "    engine.setProperty('rate', 150)  # Speed of speech\n",
    "    engine.setProperty('volume', 0.9)  # Volume (0.0 to 1.0)\n",
    "    \n",
    "    # Get available voices\n",
    "    voices = engine.getProperty('voices')\n",
    "    \n",
    "    # Choose a voice: male (0) or female (1)\n",
    "    engine.setProperty('voice', voices[0].id)  # Change to voices[1].id for female voice\n",
    "    \n",
    "    # Convert text to speech and save as audio file\n",
    "    engine.save_to_file(text, filename)\n",
    "    engine.runAndWait()\n",
    "    print(f\"Audio saved as {filename}\")\n",
    "\n",
    "# Take user input\n",
    "text = input(\"Enter the text you want to convert to audio: \")\n",
    "output_file = \"my_audio.mp3\"\n",
    "\n",
    "# Convert the text to speech\n",
    "text_to_audio(text, output_file)\n",
    "print(\"Conversion complete. Check the file:\", output_file)\n"
   ]
  }
 ],
 "metadata": {
  "kernelspec": {
   "display_name": "Python 3",
   "language": "python",
   "name": "python3"
  },
  "language_info": {
   "codemirror_mode": {
    "name": "ipython",
    "version": 3
   },
   "file_extension": ".py",
   "mimetype": "text/x-python",
   "name": "python",
   "nbconvert_exporter": "python",
   "pygments_lexer": "ipython3",
   "version": "3.12.1"
  }
 },
 "nbformat": 4,
 "nbformat_minor": 2
}
